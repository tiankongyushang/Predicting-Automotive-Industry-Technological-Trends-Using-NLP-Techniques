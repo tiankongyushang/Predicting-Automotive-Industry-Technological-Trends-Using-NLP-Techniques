{
 "cells": [
  {
   "cell_type": "code",
   "execution_count": 1,
   "metadata": {},
   "outputs": [],
   "source": [
    "import re\n",
    "import sys\n",
    "import os"
   ]
  },
  {
   "cell_type": "code",
   "execution_count": 2,
   "metadata": {},
   "outputs": [],
   "source": [
    "recording = False"
   ]
  },
  {
   "cell_type": "code",
   "execution_count": 3,
   "metadata": {},
   "outputs": [],
   "source": [
    "path = r\"C:\\Users\\Lenovo\\Desktop\\Anaconda Python 3\\Text Analytics\\Project\\TSLA\\0001564590-19-003165.txt\""
   ]
  },
  {
   "cell_type": "code",
   "execution_count": 4,
   "metadata": {},
   "outputs": [],
   "source": [
    "f = os.path.abspath(path)"
   ]
  },
  {
   "cell_type": "code",
   "execution_count": 5,
   "metadata": {},
   "outputs": [],
   "source": [
    "start_pattern = \"a>BUSINESS\"\n",
    "stop_pattern = \"a>UNRESOLVED STAFF COMMENTS\"\n",
    "output_section = []"
   ]
  },
  {
   "cell_type": "code",
   "execution_count": 45,
   "metadata": {
    "scrolled": true
   },
   "outputs": [
    {
     "name": "stdout",
     "output_type": "stream",
     "text": [
      "<p style=\"margin-bottom:0pt;margin-top:9pt;font-weight:bold;font-style:normal;text-transform:none;font-variant: normal;font-family:Times New Roman;font-size:10pt;\"><a name=\"Item_1\"></a>BUSINESS</p></td></tr></table></div>\n",
      "\n",
      "<p style=\"margin-bottom:0pt;margin-top:3pt;font-weight:bold;font-style:normal;text-transform:none;font-variant: normal;font-family:Times New Roman;font-size:10pt;\"><a name=\"ITEM_1B_UNRESOLVED_STAFF_COMMENTS\"></a><a name=\"ITEM_1B_UNRESOLVED_STAFF_COMMENTS\"></a>UNRESOLVED STAFF COMMENTS</p></td></tr></table></div>\n",
      "\n",
      "Out\n"
     ]
    }
   ],
   "source": [
    "with open(f, 'r', encoding = 'utf-8') as f1:\n",
    "    line = f1.readlines()\n",
    "    for word in line:\n",
    "        if recording == False:\n",
    "            if re.search(start_pattern, word) is not None:\n",
    "                print(re.search(start_pattern, word).string)\n",
    "                recording = True\n",
    "                output_section.append(word.strip())\n",
    "        elif recording == True:\n",
    "            output_section.extend(word.strip())\n",
    "            if re.search(stop_pattern,word) is not None:\n",
    "                print(re.search(stop_pattern,word).string)\n",
    "                recording = False\n",
    "                break\n",
    "\n",
    "    print(\"Out\")"
   ]
  },
  {
   "cell_type": "code",
   "execution_count": 46,
   "metadata": {},
   "outputs": [],
   "source": [
    "b = '\\n'.join(output_section)"
   ]
  },
  {
   "cell_type": "code",
   "execution_count": 47,
   "metadata": {},
   "outputs": [],
   "source": [
    "with open ('extract1.txt','a', encoding = 'utf-8') as a:\n",
    "    for each in b:\n",
    "        a.write(each)"
   ]
  },
  {
   "cell_type": "code",
   "execution_count": null,
   "metadata": {},
   "outputs": [],
   "source": []
  }
 ],
 "metadata": {
  "kernelspec": {
   "display_name": "Python 3",
   "language": "python",
   "name": "python3"
  },
  "language_info": {
   "codemirror_mode": {
    "name": "ipython",
    "version": 3
   },
   "file_extension": ".py",
   "mimetype": "text/x-python",
   "name": "python",
   "nbconvert_exporter": "python",
   "pygments_lexer": "ipython3",
   "version": "3.7.3"
  }
 },
 "nbformat": 4,
 "nbformat_minor": 2
}
